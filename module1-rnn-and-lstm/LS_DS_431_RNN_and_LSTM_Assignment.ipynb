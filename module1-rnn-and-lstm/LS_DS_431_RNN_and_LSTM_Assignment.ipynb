{
 "cells": [
  {
   "cell_type": "markdown",
   "metadata": {},
   "source": [
    "<img align=\"left\" src=\"https://lever-client-logos.s3.amazonaws.com/864372b1-534c-480e-acd5-9711f850815c-1524247202159.png\" width=200>\n",
    "<br></br>\n",
    "<br></br>\n",
    "\n",
    "## *Data Science Unit 4 Sprint 3 Assignment 1*\n",
    "\n",
    "# Recurrent Neural Networks and Long Short Term Memory (LSTM)\n",
    "\n",
    "![Monkey at a typewriter](https://upload.wikimedia.org/wikipedia/commons/thumb/3/3c/Chimpanzee_seated_at_typewriter.jpg/603px-Chimpanzee_seated_at_typewriter.jpg)\n",
    "\n",
    "It is said that [infinite monkeys typing for an infinite amount of time](https://en.wikipedia.org/wiki/Infinite_monkey_theorem) will eventually type, among other things, the complete works of Wiliam Shakespeare. Let's see if we can get there a bit faster, with the power of Recurrent Neural Networks and LSTM.\n",
    "\n",
    "This text file contains the complete works of Shakespeare: https://www.gutenberg.org/files/100/100-0.txt\n",
    "\n",
    "Use it as training data for an RNN - you can keep it simple and train character level, and that is suggested as an initial approach.\n",
    "\n",
    "Then, use that trained RNN to generate Shakespearean-ish text. Your goal - a function that can take, as an argument, the size of text (e.g. number of characters or lines) to generate, and returns generated text of that size.\n",
    "\n",
    "Note - Shakespeare wrote an awful lot. It's OK, especially initially, to sample/use smaller data and parameters, so you can have a tighter feedback loop when you're trying to get things running. Then, once you've got a proof of concept - start pushing it more!"
   ]
  },
  {
   "cell_type": "code",
   "execution_count": 164,
   "metadata": {},
   "outputs": [],
   "source": [
    "import requests\n",
    "import pandas as pd\n",
    "import numpy as np\n",
    "from tensorflow.keras.preprocessing import sequence\n",
    "from tensorflow.keras.models import Sequential\n",
    "from tensorflow.keras.layers import Dense, Embedding, Dropout, SimpleRNN, LSTM\n",
    "import spacy\n",
    "from spacy.tokenizer import Tokenizer\n",
    "import collections\n",
    "import string\n",
    "from cleantext import clean\n",
    "from sklearn.model_selection import train_test_split\n",
    "from tensorflow.keras.callbacks import LambdaCallback\n",
    "import random"
   ]
  },
  {
   "cell_type": "code",
   "execution_count": 5,
   "metadata": {
    "execution": {
     "iopub.execute_input": "2020-06-15T18:25:49.781Z",
     "iopub.status.busy": "2020-06-15T18:25:49.778Z",
     "iopub.status.idle": "2020-06-15T18:25:51.467Z",
     "shell.execute_reply": "2020-06-15T18:25:51.469Z"
    }
   },
   "outputs": [],
   "source": [
    "url = \"https://www.gutenberg.org/files/100/100-0.txt\"\n",
    "\n",
    "r = requests.get(url)\n",
    "r.encoding = r.apparent_encoding\n",
    "data = r.text\n",
    "data = data.split('\\r\\n')\n",
    "toc = [l.strip() for l in data[44:130:2]]\n",
    "# Skip the Table of Contents\n",
    "data = data[135:]\n",
    "\n",
    "# Fixing Titles\n",
    "toc[9] = 'THE LIFE OF KING HENRY V'\n",
    "toc[18] = 'MACBETH'\n",
    "toc[24] = 'OTHELLO, THE MOOR OF VENICE'\n",
    "toc[34] = 'TWELFTH NIGHT: OR, WHAT YOU WILL'\n",
    "\n",
    "locations = {id_:{'title':title, 'start':-99} for id_,title in enumerate(toc)}\n",
    "\n",
    "# Start \n",
    "for e,i in enumerate(data):\n",
    "    for t,title in enumerate(toc):\n",
    "        if title in i:\n",
    "            locations[t].update({'start':e})\n",
    "            \n",
    "\n",
    "df_toc = pd.DataFrame.from_dict(locations, orient='index')\n",
    "df_toc['end'] = df_toc['start'].shift(-1).apply(lambda x: x-1)\n",
    "df_toc.loc[42, 'end'] = len(data)\n",
    "df_toc['end'] = df_toc['end'].astype('int')\n",
    "\n",
    "df_toc['text'] = df_toc.apply(lambda x: '\\r\\n'.join(data[ x['start'] : int(x['end']) ]), axis=1)"
   ]
  },
  {
   "cell_type": "code",
   "execution_count": 6,
   "metadata": {
    "execution": {
     "iopub.execute_input": "2020-06-15T18:26:12.637Z",
     "iopub.status.busy": "2020-06-15T18:26:12.630Z",
     "iopub.status.idle": "2020-06-15T18:26:12.643Z",
     "shell.execute_reply": "2020-06-15T18:26:12.647Z"
    },
    "nteract": {
     "transient": {
      "deleting": false
     }
    }
   },
   "outputs": [
    {
     "output_type": "execute_result",
     "data": {
      "text/plain": [
       "                                 title  start    end  \\\n",
       "0  THE TRAGEDY OF ANTONY AND CLEOPATRA    -99  14379   \n",
       "1                       AS YOU LIKE IT  14380  17171   \n",
       "2                 THE COMEDY OF ERRORS  17172  20372   \n",
       "3            THE TRAGEDY OF CORIOLANUS  20373  30346   \n",
       "4                            CYMBELINE  30347  30364   \n",
       "\n",
       "                                                text  \n",
       "0                                                     \n",
       "1  AS YOU LIKE IT\\r\\n\\r\\n\\r\\nDRAMATIS PERSONAE.\\r...  \n",
       "2  THE COMEDY OF ERRORS\\r\\n\\r\\n\\r\\n\\r\\nContents\\r...  \n",
       "3  THE TRAGEDY OF CORIOLANUS\\r\\n\\r\\nDramatis Pers...  \n",
       "4  CYMBELINE.\\r\\nLaud we the gods;\\r\\nAnd let our...  "
      ],
      "text/html": "<div>\n<style scoped>\n    .dataframe tbody tr th:only-of-type {\n        vertical-align: middle;\n    }\n\n    .dataframe tbody tr th {\n        vertical-align: top;\n    }\n\n    .dataframe thead th {\n        text-align: right;\n    }\n</style>\n<table border=\"1\" class=\"dataframe\">\n  <thead>\n    <tr style=\"text-align: right;\">\n      <th></th>\n      <th>title</th>\n      <th>start</th>\n      <th>end</th>\n      <th>text</th>\n    </tr>\n  </thead>\n  <tbody>\n    <tr>\n      <th>0</th>\n      <td>THE TRAGEDY OF ANTONY AND CLEOPATRA</td>\n      <td>-99</td>\n      <td>14379</td>\n      <td></td>\n    </tr>\n    <tr>\n      <th>1</th>\n      <td>AS YOU LIKE IT</td>\n      <td>14380</td>\n      <td>17171</td>\n      <td>AS YOU LIKE IT\\r\\n\\r\\n\\r\\nDRAMATIS PERSONAE.\\r...</td>\n    </tr>\n    <tr>\n      <th>2</th>\n      <td>THE COMEDY OF ERRORS</td>\n      <td>17172</td>\n      <td>20372</td>\n      <td>THE COMEDY OF ERRORS\\r\\n\\r\\n\\r\\n\\r\\nContents\\r...</td>\n    </tr>\n    <tr>\n      <th>3</th>\n      <td>THE TRAGEDY OF CORIOLANUS</td>\n      <td>20373</td>\n      <td>30346</td>\n      <td>THE TRAGEDY OF CORIOLANUS\\r\\n\\r\\nDramatis Pers...</td>\n    </tr>\n    <tr>\n      <th>4</th>\n      <td>CYMBELINE</td>\n      <td>30347</td>\n      <td>30364</td>\n      <td>CYMBELINE.\\r\\nLaud we the gods;\\r\\nAnd let our...</td>\n    </tr>\n  </tbody>\n</table>\n</div>"
     },
     "metadata": {},
     "execution_count": 6
    }
   ],
   "source": [
    "#Shakespeare Data Parsed by Play\n",
    "df_toc.head()"
   ]
  },
  {
   "cell_type": "code",
   "execution_count": 59,
   "metadata": {},
   "outputs": [],
   "source": [
    "#perform data cleaning and save to 'clean_text' column\n",
    "df_toc['clean_text'] = df_toc.text.apply(lambda x: clean(x, no_punct=True, lower=True, no_line_breaks=True).replace('  ', ' '))"
   ]
  },
  {
   "cell_type": "code",
   "execution_count": 60,
   "metadata": {},
   "outputs": [
    {
     "output_type": "execute_result",
     "data": {
      "text/plain": [
       "0                                                      \n",
       "1     as you like it dramatis personae duke living i...\n",
       "2     the comedy of errors contents act i scene i a ...\n",
       "3     the tragedy of coriolanus dramatis personae ca...\n",
       "4     cymbeline laud we the gods and let our crooked...\n",
       "5     the tragedy of hamlet prince of denmark conten...\n",
       "6     the first part of king henry the fourth dramat...\n",
       "7     the second part of king henry the fourth drama...\n",
       "8                                                      \n",
       "9     the life of king henry v contents act i prolog...\n",
       "10    the second part of king henry the sixth dramat...\n",
       "11    the third part of king henry the sixth dramati...\n",
       "12    king henry the eighth the prologue i come no m...\n",
       "13    king john o cousin thou art come to set mine e...\n",
       "14    the tragedy of julius caesar contents act i sc...\n",
       "15    the tragedy of king lear contents act i scene ...\n",
       "16    loves labours lost dramatis personae ferdinand...\n",
       "17                                                     \n",
       "18    macbeth i will not yield to kiss the ground be...\n",
       "19    the merchant of venice contents act i scene i ...\n",
       "20    the merry wives of windsor dramatis personae s...\n",
       "21    a midsummer nights dream contents act i scene ...\n",
       "22    much ado about nothing contents act i scene i ...\n",
       "23                                                     \n",
       "24    othello the moor of venice contents act i scen...\n",
       "25    king richard the second john of gaunt duke of ...\n",
       "26    king richard the third dramatis personae edwar...\n",
       "27    the tragedy of romeo and juliet contents the p...\n",
       "28    the taming of the shrew contents induction sce...\n",
       "29    the tempest contents act i scene i on a ship a...\n",
       "30    the life of timon of athens dramatis personae ...\n",
       "31    the tragedy of titus andronicus dramatis perso...\n",
       "32    the history of troilus and cressida contents a...\n",
       "33                                                     \n",
       "34    twelfth night or what you will contents act i ...\n",
       "35    the two noble kinsmen presented at the blackfr...\n",
       "36    the winters tale contents act i scene i sicili...\n",
       "37    a lovers complaint from off a hill whose conca...\n",
       "38    the passionate pilgrim i did not the heavenly ...\n",
       "39    the phoenix and the turtle let the bird of lou...\n",
       "40    the rape of lucrece to the right honourable he...\n",
       "41    venus and adonis even as the sun with purpleco...\n",
       "42                                                     \n",
       "Name: clean_text, dtype: object"
      ]
     },
     "metadata": {},
     "execution_count": 60
    }
   ],
   "source": [
    "df_toc['clean_text']"
   ]
  },
  {
   "cell_type": "code",
   "execution_count": 62,
   "metadata": {},
   "outputs": [
    {
     "output_type": "stream",
     "name": "stdout",
     "text": [
      "22782\n"
     ]
    },
    {
     "output_type": "execute_result",
     "data": {
      "text/plain": [
       "3273"
      ]
     },
     "metadata": {},
     "execution_count": 62
    }
   ],
   "source": [
    "print(len(df_toc.clean_text[1].split(' ')))\n",
    "len(set(df_toc.clean_text[1].split(' ')))"
   ]
  },
  {
   "cell_type": "code",
   "execution_count": 75,
   "metadata": {},
   "outputs": [],
   "source": [
    "#Creates a list of unique words in the whole dataset\n",
    "word_set = []\n",
    "for i in range(len(df_toc)):\n",
    "    split_string = set(df_toc.clean_text[i].split(' '))\n",
    "    for word in split_string:\n",
    "        if word not in word_set:\n",
    "            word_set.append(word)"
   ]
  },
  {
   "cell_type": "code",
   "execution_count": 77,
   "metadata": {},
   "outputs": [
    {
     "output_type": "execute_result",
     "data": {
      "text/plain": [
       "30316"
      ]
     },
     "metadata": {},
     "execution_count": 77
    }
   ],
   "source": [
    "len(word_set)"
   ]
  },
  {
   "cell_type": "code",
   "execution_count": 88,
   "metadata": {
    "tags": []
   },
   "outputs": [
    {
     "output_type": "execute_result",
     "data": {
      "text/plain": [
       "30317"
      ]
     },
     "metadata": {},
     "execution_count": 88
    }
   ],
   "source": [
    "vocab, index = {}, 1 # start indexing from 1\n",
    "vocab['<pad>'] = 0 # add a padding token \n",
    "for token in word_set:\n",
    "  if token not in vocab: \n",
    "    vocab[token] = index\n",
    "    index += 1\n",
    "vocab_size = len(vocab)\n",
    "vocab_size"
   ]
  },
  {
   "cell_type": "code",
   "execution_count": 83,
   "metadata": {
    "tags": []
   },
   "outputs": [
    {
     "output_type": "execute_result",
     "data": {
      "text/plain": [
       "30317"
      ]
     },
     "metadata": {},
     "execution_count": 83
    }
   ],
   "source": [
    "inverse_vocab = {index: token for token, index in vocab.items()}\n",
    "len(inverse_vocab)"
   ]
  },
  {
   "cell_type": "code",
   "execution_count": 112,
   "metadata": {},
   "outputs": [],
   "source": [
    "#Takes in raw text and outputs the integer representation of that word\n",
    "def encode_vocab(text):\n",
    "    return [vocab[word] for word in text.split(' ')]"
   ]
  },
  {
   "cell_type": "code",
   "execution_count": 90,
   "metadata": {},
   "outputs": [],
   "source": [
    "#Takes in a list of integer representations of words and returns the words\n",
    "def decode_vocab(text):\n",
    "    return ' '.join([inverse_vocab.get(i, '?') for i in text])"
   ]
  },
  {
   "cell_type": "code",
   "execution_count": 115,
   "metadata": {
    "tags": [
     "outputPrepend"
    ]
   },
   "outputs": [
    {
     "output_type": "stream",
     "name": "stdout",
     "text": [
      "oliver many will swoon when they do look on blood celia there is more in it cousin ganymede oliver look he recovers rosalind i would i were at home celia well lead you thither i pray you will you take him by the arm oliver be of good cheer youth you a man you lack a mans heart rosalind i do so i confess it ah sirrah a body would think this was well counterfeited i pray you tell your brother how well i counterfeited heighho oliver this was not counterfeit there is too great testimony in your complexion that it was a passion of earnest rosalind counterfeit i assure you oliver well then take a good heart and counterfeit to be a man rosalind so i do but i faith i should have been a woman by right celia come you look paler and paler pray you draw homewards good sir go with us oliver that will i for i must bear answer back how you excuse my brother rosalind rosalind i shall devise something but i pray you commend my counterfeiting to him will you go exeunt act v scene i the forest enter touchstone and audrey touchstone we shall find a time audrey patience gentle audrey audrey faith the priest was good enough for all the old gentlemans saying touchstone a most wicked sir oliver audrey a most vile martext but audrey there is a youth here in the forest lays claim to you audrey ay i know who tis he hath no interest in me in the world here comes the man you mean enter william touchstone it is meat and drink to me to see a clown by my troth we that have good wits have much to answer for we shall be flouting we cannot hold william good evn audrey audrey god ye good evn william william and good evn to you sir touchstone good evn gentle friend cover thy head cover thy head nay prithee be coverd how old are you friend william five and twenty sir touchstone a ripe age is thy name william william william sir touchstone a fair name wast born i th forest here william ay sir i thank god touchstone thank god a good answer art rich william faith sir so so touchstone so so is good very good very excellent good and yet it is not it is but so so art thou wise william ay sir i have a pretty wit touchstone why thou sayst well i do now remember a saying the fool doth think he is wise but the wise man knows himself to be a fool the heathen philosopher when he had a desire to eat a grape would open his lips when he put it into his mouth meaning thereby that grapes were made to eat and lips to open you do love this maid william i do sir touchstone give me your hand art thou learned william no sir touchstone then learn this of me to have is to have for it is a figure in rhetoric that drink being pourd out of cup into a glass by filling the one doth empty the other for all your writers do consent that ipse is he now you are not ipse for i am he william which he sir touchstone he sir that must marry this woman therefore you clown abandon which is in the vulgar leave the society which in the boorish is company of this female which in the common is woman which together is abandon the society of this female or clown thou perishest or to thy better understanding diest or to wit i kill thee make thee away translate thy life into death thy liberty into bondage i will deal in poison with thee or in bastinado or in steel i will bandy with thee in faction will oerrun thee with policy i will kill thee a hundred and fifty ways therefore tremble and depart audrey do good william william god rest you merry sir exit enter corin corin our master and mistress seeks you come away away touchstone trip audrey trip audrey i attend i attend exeunt scene ii the forest enter orlando and oliver orlando ist possible that on so little acquaintance you should like her that but seeing you should love her and loving woo and wooing she should grant and will you persever to enjoy her oliver neither call the giddiness of it in question the poverty of her the small acquaintance my sudden wooing nor her sudden consenting but say with me i love aliena say with her that she loves me consent with both that we may enjoy each other it shall be to your good for my fathers house and all the revenue that was old sir rowlands will i estate upon you and here live and die a shepherd orlando you have my consent let your wedding be tomorrow thither will i invite the duke and alls contented followers go you and prepare aliena for look you here comes my rosalind enter rosalind rosalind god save you brother oliver and you fair sister exit rosalind o my dear orlando how it grieves me to see thee wear thy heart in a scarf orlando it is my arm rosalind i thought thy heart had been wounded with the claws of a lion orlando wounded it is but with the eyes of a lady rosalind did your brother tell you how i counterfeited to swoon when he showd me your handkercher orlando ay and greater wonders than that rosalind o i know where you are nay tis true there was never any thing so sudden but the fight of two rams and caesars thrasonical brag of i came saw and overcame for your brother and my sister no sooner met but they lookd no sooner lookd but they lovd no sooner lovd but they sighd no sooner sighd but they askd one another the reason no sooner knew the reason but they sought the remedy and in these degrees have they made pair of stairs to marriage which they will climb incontinent or else be incontinent before marriage they are in the very wrath of love and they will together clubs cannot part them orlando they shall be married tomorrow and i will bid the duke to the nuptial but o how bitter a thing it is to look into happiness through another mans eyes by so much the more shall i tomorrow be at the height of heartheaviness by how much i shall think my brother happy in having what he wishes for rosalind why then tomorrow i cannot serve your turn for rosalind orlando i can live no longer by thinking rosalind i will weary you then no longer with idle talking know of me then for now i speak to some purpose that i know you are a gentleman of good conceit i speak not this that you should bear a good opinion of my knowledge insomuch i say i know you are neither do i labour for a greater esteem than may in some little measure draw a belief from you to do yourself good and not to grace me believe then if you please that i can do strange things i have since i was three year old conversd with a magician most profound in his art and yet not damnable if you do love rosalind so near the heart as your gesture cries it out when your brother marries aliena shall you marry her i know into what straits of fortune she is driven and it is not impossible to me if it appear not inconvenient to you to set her before your eyes tomorrow human as she is and without any danger orlando speakst thou in sober meanings rosalind by my life i do which i tender dearly though i say i am a magician therefore put you in your best array bid your friends for if you will be married tomorrow you shall and to rosalind if you will enter silvius and phebe look here comes a lover of mine and a lover of hers phebe youth you have done me much ungentleness to show the letter that i writ to you rosalind i care not if i have it is my study to seem despiteful and ungentle to you you are there followd by a faithful shepherd look upon him love him he worships you phebe good shepherd tell this youth what tis to love silvius it is to be all made of sighs and tears and so am i for phebe phebe and i for ganymede orlando and i for rosalind rosalind and i for no woman silvius it is to be all made of faith and service and so am i for phebe phebe and i for ganymede orlando and i for rosalind rosalind and i for no woman silvius it is to be all made of fantasy all made of passion and all made of wishes all adoration duty and observance all humbleness all patience and impatience all purity all trial all obedience and so am i for phebe phebe and so am i for ganymede orlando and so am i for rosalind rosalind and so am i for no woman phebe if this be so why blame you me to love you silvius if this be so why blame you me to love you orlando if this be so why blame you me to love you rosalind why do you speak too why blame you me to love you orlando to her that is not here nor doth not hear rosalind pray you no more of this tis like the howling of irish wolves against the moon to silvius i will help you if i can to phebe i would love you if i could tomorrow meet me all together to phebe i will marry you if ever i marry woman and ill be married tomorrow to orlando i will satisfy you if ever i satisfied man and you shall be married tomorrow to silvius i will content you if what pleases you contents you and you shall be married tomorrow to orlando as you love rosalind meet to silvius as you love phebe meet and as i love no woman ill meet so fare you well i have left you commands silvius ill not fail if i live phebe nor i orlando nor i exeunt scene iii the forest enter touchstone and audrey touchstone tomorrow is the joyful day audrey tomorrow will we be married audrey i do desire it with all my heart and i hope it is no dishonest desire to desire to be a woman of the world here come two of the banishd dukes pages enter two pages first page well met honest gentleman touchstone by my troth well met come sit sit and a song second page we are for you sit i th middle first page shall we clap intot roundly without hawking or spitting or saying we are hoarse which are the only prologues to a bad voice second page ifaith ifaith and both in a tune like two gipsies on a horse song it was a lover and his lass with a hey and a ho and a hey nonino that oer the green cornfield did pass in the spring time the only pretty ring time when birds do sing hey ding a ding ding sweet lovers love the spring between the acres of the rye with a hey and a ho and a hey nonino these pretty country folks would lie in the spring time c this carol they began that hour with a hey and a ho and a hey nonino how that a life was but a flower in the spring time c and therefore take the present time with a hey and a ho and a hey nonino for love is crowned with the prime in the spring time c touchstone truly young gentlemen though there was no great matter in the ditty yet the note was very untuneable first page you are deceivd sir we kept time we lost not our time touchstone by my troth yes i count it but time lost to hear such a foolish song god buy you and god mend your voices come audrey exeunt scene iv the forest enter duke senior amiens jaques orlando oliver and celia duke senior dost thou believe orlando that the boy can do all this that he hath promised orlando i sometimes do believe and sometimes do not as those that fear they hope and know they fear enter rosalind silvius and phebe rosalind patience once more whiles our compact is urgd you say if i bring in your rosalind you will bestow her on orlando here duke senior that would i had i kingdoms to give with her rosalind and you say you will have her when i bring her orlando that would i were i of all kingdoms king rosalind you say youll marry me if i be willing phebe that will i should i die the hour after rosalind but if you do refuse to marry me youll give yourself to this most faithful shepherd phebe so is the bargain rosalind you say that youll have phebe if she will silvius though to have her and death were both one thing rosalind i have promisd to make all this matter even keep you your word o duke to give your daughter you yours orlando to receive his daughter keep your word phebe that youll marry me or else refusing me to wed this shepherd keep your word silvius that youll marry her if she refuse me and from hence i go to make these doubts all even exeunt rosalind and celia duke senior i do remember in this shepherd boy some lively touches of my daughters favour orlando my lord the first time that i ever saw him methought he was a brother to your daughter but my good lord this boy is forestborn and hath been tutord in the rudiments of many desperate studies by his uncle whom he reports to be a great magician obscured in the circle of this forest enter touchstone and audrey jaques there is sure another flood toward and these couples are coming to the ark here comes a pair of very strange beasts which in all tongues are calld fools touchstone salutation and greeting to you all jaques good my lord bid him welcome this is the motleyminded gentleman that i have so often met in the forest he hath been a courtier he swears touchstone if any man doubt that let him put me to my purgation i have trod a measure i have flattred a lady i have been politic with my friend smooth with mine enemy i have undone three tailors i have had four quarrels and like to have fought one jaques and how was that taen up touchstone faith we met and found the quarrel was upon the seventh cause jaques how seventh cause good my lord like this fellow duke senior i like him very well touchstone god ild you sir i desire you of the like i press in here sir amongst the rest of the country copulatives to swear and to forswear according as marriage binds and blood breaks a poor virgin sir an illfavourd thing sir but mine own a poor humour of mine sir to take that that man else will rich honesty dwells like a miser sir in a poor house as your pearl in your foul oyster duke senior by my faith he is very swift and sententious touchstone according to the fools bolt sir and such dulcet diseases jaques but for the seventh cause how did you find the quarrel on the seventh cause touchstone upon a lie seven times removed bear your body more seeming audrey as thus sir i did dislike the cut of a certain courtiers beard he sent me word if i said his beard was not cut well he was in the mind it was this is calld the retort courteous if i sent him word again it was not well cut he would send me word he cut it to please himself this is calld the quip modest if again it was not well cut he disabled my judgment this is calld the reply churlish if again it was not well cut he would answer i spake not true this is calld the reproof valiant if again it was not well cut he would say i lie this is calld the countercheck quarrelsome and so to the lie circumstantial and the lie direct jaques and how oft did you say his beard was not well cut touchstone i durst go no further than the lie circumstantial nor he durst not give me the lie direct and so we measurd swords and parted jaques can you nominate in order now the degrees of the lie touchstone o sir we quarrel in print by the book as you have books for good manners i will name you the degrees the first the retort courteous the second the quip modest the third the reply churlish the fourth the reproof valiant the fifth the countercheck quarrelsome the sixth the lie with circumstance the seventh the lie direct all these you may avoid but the lie direct and you may avoid that too with an if i knew when seven justices could not take up a quarrel but when the parties were met themselves one of them thought but of an if as if you said so then i said so and they shook hands and swore brothers your if is the only peacemaker much virtue in if jaques is not this a rare fellow my lord hes as good at any thing and yet a fool duke senior he uses his folly like a stalkinghorse and under the presentation of that he shoots his wit enter hymen rosalind and celia still music hymen then is there mirth in heaven when earthly things made even atone together good duke receive thy daughter hymen from heaven brought her yea brought her hither that thou mightst join her hand with his whose heart within his bosom is rosalind to duke to you i give myself for i am yours to orlando to you i give myself for i am yours duke senior if there be truth in sight you are my daughter orlando if there be truth in sight you are my rosalind phebe if sight and shape be true why then my love adieu rosalind ill have no father if you be not he ill have no husband if you be not he nor neer wed woman if you be not she hymen peace ho i bar confusion tis i must make conclusion of these most strange events heres eight that must take hands to join in hymens bands if truth holds true contents you and you no cross shall part you and you are heart in heart you to his love must accord or have a woman to your lord you and you are sure together as the winter to foul weather whiles a wedlockhymn we sing feed yourselves with questioning that reason wonder may diminish how thus we met and these things finish song wedding is great junos crown o blessed bond of board and bed tis hymen peoples every town high wedlock then be honoured honour high honour and renown to hymen god of every town duke senior o my dear niece welcome thou art to me even daughter welcome in no less degree phebe i will not eat my word now thou art mine thy faith my fancy to thee doth combine enter jaques de boys jaques de boys let me have audience for a word or two i am the second son of old sir rowland that bring these tidings to this fair assembly duke frederick hearing how that every day men of great worth resorted to this forest addressd a mighty power which were on foot in his own conduct purposely to take his brother here and put him to the sword and to the skirts of this wild wood he came where meeting with an old religious man after some question with him was converted both from his enterprise and from the world his crown bequeathing to his banishd brother and all their lands restord to them again that were with him exild this to be true i do engage my life duke senior welcome young man thou offerst fairly to thy brothers wedding to one his lands withheld and to the other a land itself at large a potent dukedom first in this forest let us do those ends that here were well begun and well begot and after every of this happy number that have endurd shrewd days and nights with us shall share the good of our returned fortune according to the measure of their states meantime forget this newfalln dignity and fall into our rustic revelry play music and you brides and bridegrooms all with measure heapd in joy to th measures fall jaques sir by your patience if i heard you rightly the duke hath put on a religious life and thrown into neglect the pompous court jaques de boys he hath jaques to him will i out of these convertites there is much matter to be heard and learnd to duke you to your former honour i bequeath your patience and your virtue well deserves it to orlando you to a love that your true faith doth merit to oliver you to your land and love and great allies to silvius you to a long and welldeserved bed to touchstone and you to wrangling for thy loving voyage is but for two months victualld so to your pleasures i am for other than for dancing measures duke senior stay jaques stay jaques to see no pastime i what you would have ill stay to know at your abandond cave exit duke senior proceed proceed we will begin these rites as we do trust theyll end in true delights a dance exeunt epilogue epilogue rosalind it is not the fashion to see the lady the epilogue but it is no more unhandsome than to see the lord the prologue if it be true that good wine needs no bush tis true that a good play needs no epilogue yet to good wine they do use good bushes and good plays prove the better by the help of good epilogues what a case am i in then that am neither a good epilogue nor cannot insinuate with you in the behalf of a good play i am not furnishd like a beggar therefore to beg will not become me my way is to conjure you and ill begin with the women i charge you o women for the love you bear to men to like as much of this play as please you and i charge you o men for the love you bear to women as i perceive by your simpring none of you hates them that between you and the women the play may please if i were a woman i would kiss as many of you as had beards that pleasd me complexions that likd me and breaths that i defied not and i am sure as many as have good beards or good faces or sweet breaths will for my kind offer when i make curtsy bid me farewell\n"
     ]
    }
   ],
   "source": [
    "print(decode_vocab(encode_vocab(df_toc.clean_text[1])))"
   ]
  },
  {
   "cell_type": "code",
   "execution_count": 130,
   "metadata": {},
   "outputs": [
    {
     "output_type": "execute_result",
     "data": {
      "text/plain": [
       "0                                                  [1]\n",
       "1    [2927, 2980, 2843, 2452, 2047, 2877, 2248, 827...\n",
       "2    [2039, 4514, 1102, 3856, 2097, 2604, 1831, 286...\n",
       "3    [2039, 7507, 1102, 7386, 2047, 2877, 7364, 538...\n",
       "4    [5884, 8444, 3097, 2039, 1039, 2367, 2773, 313...\n",
       "5    [2039, 7507, 1102, 9615, 4125, 1102, 10267, 20...\n",
       "6    [2039, 3071, 348, 1102, 2820, 10433, 2039, 202...\n",
       "7    [2039, 1202, 348, 1102, 2820, 10433, 2039, 202...\n",
       "8                                                  [1]\n",
       "9    [2039, 2333, 1102, 2820, 10433, 2768, 2097, 26...\n",
       "Name: encoded, dtype: object"
      ]
     },
     "metadata": {},
     "execution_count": 130
    }
   ],
   "source": [
    "df_toc['encoded'] = df_toc.clean_text.apply(lambda x: encode_vocab(x))\n",
    "df_toc.encoded.head(10)"
   ]
  },
  {
   "cell_type": "code",
   "execution_count": 137,
   "metadata": {},
   "outputs": [],
   "source": [
    "tf.compat.v1.logging.set_verbosity(tf.compat.v1.logging.ERROR)"
   ]
  },
  {
   "cell_type": "code",
   "execution_count": null,
   "metadata": {},
   "outputs": [],
   "source": [
    "#I spent days trying to get other methods working before realizing that the solutions were at the bottom of the lecture notebook..."
   ]
  },
  {
   "cell_type": "code",
   "execution_count": 141,
   "metadata": {},
   "outputs": [],
   "source": [
    "# Encode Data as Chars\n",
    "\n",
    "# Gather all text \n",
    "# Why? 1. See all possible characters 2. For training / splitting later\n",
    "text = \" \".join(df_toc.text)\n",
    "\n",
    "# Unique Characters\n",
    "chars = list(set(text))\n",
    "\n",
    "# Lookup Tables\n",
    "char_int = {c:i for i, c in enumerate(chars)} \n",
    "int_char = {i:c for i, c in enumerate(chars)} "
   ]
  },
  {
   "cell_type": "code",
   "execution_count": 142,
   "metadata": {},
   "outputs": [
    {
     "output_type": "execute_result",
     "data": {
      "text/plain": [
       "106"
      ]
     },
     "metadata": {},
     "execution_count": 142
    }
   ],
   "source": [
    "len(chars)"
   ]
  },
  {
   "cell_type": "code",
   "execution_count": 155,
   "metadata": {},
   "outputs": [
    {
     "output_type": "stream",
     "name": "stdout",
     "text": [
      "sequences:  760291\n"
     ]
    }
   ],
   "source": [
    "# Create the sequence data\n",
    "\n",
    "maxlen = 40\n",
    "step = 20\n",
    "\n",
    "encoded = [char_int[c] for c in text]\n",
    "\n",
    "sequences = [] # Each element is 40 chars long\n",
    "next_char = [] # One element for each sequence\n",
    "\n",
    "for i in range(0, len(encoded) - maxlen, step):\n",
    "    \n",
    "    sequences.append(encoded[i : i + maxlen])\n",
    "    next_char.append(encoded[i + maxlen])\n",
    "    \n",
    "print('sequences: ', len(sequences))\n"
   ]
  },
  {
   "cell_type": "code",
   "execution_count": null,
   "metadata": {},
   "outputs": [],
   "source": [
    "sequences[0]"
   ]
  },
  {
   "cell_type": "code",
   "execution_count": 156,
   "metadata": {},
   "outputs": [],
   "source": [
    "# Create x & y\n",
    "\n",
    "x = np.zeros((len(sequences), maxlen, len(chars)), dtype=np.bool)\n",
    "y = np.zeros((len(sequences),len(chars)), dtype=np.bool)\n",
    "\n",
    "for i, sequence in enumerate(sequences):\n",
    "    for t, char in enumerate(sequence):\n",
    "        x[i,t,char] = 1\n",
    "        \n",
    "    y[i, next_char[i]] = 1\n",
    "        "
   ]
  },
  {
   "cell_type": "code",
   "execution_count": 157,
   "metadata": {},
   "outputs": [],
   "source": [
    "# build the model: a single LSTM\n",
    "\n",
    "model = Sequential()\n",
    "model.add(LSTM(128, input_shape=(maxlen, len(chars))))\n",
    "model.add(Dense(len(chars), activation='softmax'))\n",
    "\n",
    "model.compile(loss='categorical_crossentropy', optimizer='adam')"
   ]
  },
  {
   "cell_type": "code",
   "execution_count": 147,
   "metadata": {},
   "outputs": [],
   "source": [
    "def sample(preds):\n",
    "    # helper function to sample an index from a probability array\n",
    "    preds = np.asarray(preds).astype('float64')\n",
    "    preds = np.log(preds) / 1\n",
    "    exp_preds = np.exp(preds)\n",
    "    preds = exp_preds / np.sum(exp_preds)\n",
    "    probas = np.random.multinomial(1, preds, 1)\n",
    "    return np.argmax(probas)"
   ]
  },
  {
   "cell_type": "code",
   "execution_count": 151,
   "metadata": {},
   "outputs": [],
   "source": [
    "def on_epoch_end(epoch, _):\n",
    "    # Function invoked at end of each epoch. Prints generated text.\n",
    "    \n",
    "    print()\n",
    "    print('----- Generating text after Epoch: %d' % epoch)\n",
    "    \n",
    "    start_index = random.randint(0, len(text) - maxlen - 1)\n",
    "    \n",
    "    generated = ''\n",
    "    \n",
    "    sentence = text[start_index: start_index + maxlen]\n",
    "    generated += sentence\n",
    "    \n",
    "    print('----- Generating with seed: \"' + sentence + '\"')\n",
    "    sys.stdout.write(generated)\n",
    "    \n",
    "    for i in range(400):\n",
    "        x_pred = np.zeros((1, maxlen, len(chars)))\n",
    "        for t, char in enumerate(sentence):\n",
    "            x_pred[0, t, char_int[char]] = 1\n",
    "            \n",
    "        preds = model.predict(x_pred, verbose=0)[0]\n",
    "        next_index = sample(preds)\n",
    "        next_char = int_char[next_index]\n",
    "        \n",
    "        sentence = sentence[1:] + next_char\n",
    "        \n",
    "        sys.stdout.write(next_char)\n",
    "        sys.stdout.flush()\n",
    "    print()\n",
    "\n",
    "\n",
    "print_callback = LambdaCallback(on_epoch_end=on_epoch_end)"
   ]
  },
  {
   "cell_type": "code",
   "execution_count": null,
   "metadata": {},
   "outputs": [],
   "source": []
  },
  {
   "cell_type": "code",
   "execution_count": 165,
   "metadata": {},
   "outputs": [
    {
     "output_type": "stream",
     "name": "stdout",
     "text": [
      "Train on 760291 samples\n",
      "Epoch 1/10\n",
      "759808/760291 [============================>.] - ETA: 0s - loss: 2.0554\n",
      "----- Generating text after Epoch: 0\n",
      "----- Generating with seed: \" still pursues his fear.\n",
      "\n",
      "As each unwi\"\n",
      " still pursues his fear.\n",
      "\n",
      "\n",
      "\n",
      "\n",
      "\n",
      "\n",
      "\n",
      " \n",
      "760291/760291 [==============================] - 124s 163us/sample - loss: 2.0554\n",
      "Epoch 2/10\n",
      "759808/760291 [============================>.] - ETA: 0s - loss: 1.9635\n",
      "----- Generating text after Epoch: 1\n",
      "----- Generating with seed: \",\n",
      "Hanging her pale and pined cheek besi\"\n",
      ",\n",
      "\n",
      "\n",
      "\n",
      "\n",
      "\n",
      "\n",
      "\n",
      "\n",
      "\n",
      "\n",
      "\n",
      "    the \n",
      "760291/760291 [==============================] - 128s 169us/sample - loss: 1.9635\n",
      "Epoch 3/10\n",
      "759808/760291 [============================>.] - ETA: 0s - loss: 1.8999\n",
      "----- Generating text after Epoch: 2\n",
      "----- Generating with seed: \"ive the fire?\n",
      "\n",
      "TITINIUS.\n",
      "They are, my\"\n",
      "ive the fire?\n",
      "\n",
      "TITINIUS.\n",
      "\n",
      "\n",
      "\n",
      "\n",
      "\n",
      "\n",
      "\n",
      "\n",
      "    Sown with oof heur lin? She beed’d as fonkell la\n",
      "760291/760291 [==============================] - 127s 167us/sample - loss: 1.8998\n",
      "Epoch 4/10\n",
      "759808/760291 [============================>.] - ETA: 0s - loss: 1.8512\n",
      "----- Generating text after Epoch: 3\n",
      "----- Generating with seed: \"t stay for him to kill him? Have I not, \"\n",
      "\n",
      "\n",
      "\n",
      "\n",
      "\n",
      "\n",
      "\n",
      "\n",
      "\n",
      "\n",
      "\n",
      "\n",
      "\n",
      "\n",
      "\n",
      "\n",
      "\n",
      "\n",
      "\n",
      "\n",
      "H\n",
      "760291/760291 [==============================] - 125s 165us/sample - loss: 1.8511\n",
      "Epoch 5/10\n",
      "759808/760291 [============================>.] - ETA: 0s - loss: 1.8107\n",
      "----- Generating text after Epoch: 4\n",
      "----- Generating with seed: \"h the chamber, and destroy your sight\n",
      "W\"\n",
      "h the chamber, and destroy your sight\n",
      "\n",
      "\n",
      "\n",
      "\n",
      "\n",
      "\n",
      "\n",
      "\n",
      "\n",
      "\n",
      "\n",
      "An\n",
      "760291/760291 [==============================] - 130s 171us/sample - loss: 1.8107\n",
      "Epoch 6/10\n",
      "759808/760291 [============================>.] - ETA: 0s - loss: 1.7773\n",
      "----- Generating text after Epoch: 5\n",
      "----- Generating with seed: \" harlot for her weeping,\n",
      "           Or \"\n",
      " harlot for her weeping,\n",
      "\n",
      "\n",
      "\n",
      "\n",
      "\n",
      "\n",
      "\n",
      "\n",
      "\n",
      "\n",
      "\n",
      "\n",
      "\n",
      "\n",
      "\n",
      "\n",
      "\n",
      "760291/760291 [==============================] - 122s 160us/sample - loss: 1.7773\n",
      "Epoch 7/10\n",
      "759808/760291 [============================>.] - ETA: 0s - loss: 1.7481\n",
      "----- Generating text after Epoch: 6\n",
      "----- Generating with seed: \"r of the heart,\n",
      "Unpruned dies; her hedg\"\n",
      "r of the heart,\n",
      "\n",
      "\n",
      "\n",
      "\n",
      "\n",
      "\n",
      "\n",
      "\n",
      "\n",
      "\n",
      "760291/760291 [==============================] - 122s 161us/sample - loss: 1.7480\n",
      "Epoch 8/10\n",
      "759808/760291 [============================>.] - ETA: 0s - loss: 1.7222\n",
      "----- Generating text after Epoch: 7\n",
      "----- Generating with seed: \"he watch come forth.\n",
      "      Masters, I c\"\n",
      "he watch come forth.\n",
      "\n",
      "\n",
      "\n",
      "\n",
      "\n",
      "\n",
      "\n",
      "\n",
      "\n",
      "    So not thice I w\n",
      "760291/760291 [==============================] - 123s 162us/sample - loss: 1.7221\n",
      "Epoch 9/10\n",
      "759808/760291 [============================>.] - ETA: 0s - loss: 1.6990\n",
      "----- Generating text after Epoch: 8\n",
      "----- Generating with seed: \"s of me,\n",
      "Antiochus from incest lived no\"\n",
      "s of me,\n",
      "\n",
      "\n",
      "\n",
      "\n",
      "\n",
      "\n",
      "\n",
      "\n",
      "\n",
      "\n",
      "\n",
      "\n",
      "760291/760291 [==============================] - 127s 167us/sample - loss: 1.6990\n",
      "Epoch 10/10\n",
      "759808/760291 [============================>.] - ETA: 0s - loss: 1.6780\n",
      "----- Generating text after Epoch: 9\n",
      "----- Generating with seed: \"roof;\n",
      "Without more wider and more overt\"\n",
      "roof;\n",
      "\n",
      "\n",
      "\n",
      "\n",
      "\n",
      "\n",
      "\n",
      "\n",
      "\n",
      "\n",
      "\n",
      "\n",
      "\n",
      "\n",
      "\n",
      "That; she las’d to fixme with so that vick the ru\n",
      "760291/760291 [==============================] - 126s 166us/sample - loss: 1.6780\n"
     ]
    },
    {
     "output_type": "execute_result",
     "data": {
      "text/plain": [
       "<tensorflow.python.keras.callbacks.History at 0x1fda61b17f0>"
      ]
     },
     "metadata": {},
     "execution_count": 165
    }
   ],
   "source": [
    "# fit the model\n",
    "\n",
    "model.fit(x, y,\n",
    "          batch_size=1024,\n",
    "          epochs=10,\n",
    "          callbacks=[print_callback])"
   ]
  },
  {
   "cell_type": "code",
   "execution_count": 167,
   "metadata": {},
   "outputs": [],
   "source": [
    "%load_ext tensorboard"
   ]
  },
  {
   "cell_type": "code",
   "execution_count": 168,
   "metadata": {},
   "outputs": [
    {
     "output_type": "display_data",
     "data": {
      "text/plain": "ERROR: Timed out waiting for TensorBoard to start. It may still be running as pid 10856."
     },
     "metadata": {}
    }
   ],
   "source": [
    "%tensorboard --logdir logs/fit"
   ]
  },
  {
   "cell_type": "code",
   "execution_count": null,
   "metadata": {},
   "outputs": [],
   "source": []
  },
  {
   "cell_type": "code",
   "execution_count": null,
   "metadata": {},
   "outputs": [],
   "source": []
  }
 ],
 "metadata": {
  "kernelspec": {
   "name": "python3",
   "display_name": "Python 3.6.8 64-bit ('DS-Unit-4-Sprint-3-Deep-Learning': venv)",
   "metadata": {
    "interpreter": {
     "hash": "46bfb1b92a1d32a648f4355aa811ea5547fb53dbb2d1899e9b91a9b5b111cf30"
    }
   }
  },
  "language_info": {
   "codemirror_mode": {
    "name": "ipython",
    "version": 3
   },
   "file_extension": ".py",
   "mimetype": "text/x-python",
   "name": "python",
   "nbconvert_exporter": "python",
   "pygments_lexer": "ipython3",
   "version": "3.6.8-final"
  },
  "nteract": {
   "version": "0.23.3"
  }
 },
 "nbformat": 4,
 "nbformat_minor": 4
}