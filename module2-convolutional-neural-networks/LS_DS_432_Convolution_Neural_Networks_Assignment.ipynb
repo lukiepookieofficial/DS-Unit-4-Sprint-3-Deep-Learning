{
  "nbformat": 4,
  "nbformat_minor": 0,
  "metadata": {
    "kernelspec": {
      "name": "python3",
      "display_name": "Python 3.6.8 64-bit ('DS-Unit-4-Sprint-3-Deep-Learning': pipenv)",
      "metadata": {
        "interpreter": {
          "hash": "46bfb1b92a1d32a648f4355aa811ea5547fb53dbb2d1899e9b91a9b5b111cf30"
        }
      }
    },
    "language_info": {
      "codemirror_mode": {
        "name": "ipython",
        "version": 3
      },
      "file_extension": ".py",
      "mimetype": "text/x-python",
      "name": "python",
      "nbconvert_exporter": "python",
      "pygments_lexer": "ipython3",
      "version": "3.6.8-final"
    },
    "nteract": {
      "version": "0.23.1"
    },
    "colab": {
      "name": "LS_DS_432_Convolution_Neural_Networks_Assignment.ipynb",
      "provenance": []
    }
  },
  "cells": [
    {
      "cell_type": "markdown",
      "metadata": {
        "id": "fc4yMj7mtCAZ",
        "colab_type": "text"
      },
      "source": [
        "<img align=\"left\" src=\"https://lever-client-logos.s3.amazonaws.com/864372b1-534c-480e-acd5-9711f850815c-1524247202159.png\" width=200>\n",
        "<br></br>\n",
        "<br></br>\n",
        "\n",
        "## *Data Science Unit 4 Sprint 3 Assignment 2*\n",
        "# Convolutional Neural Networks (CNNs)"
      ]
    },
    {
      "cell_type": "markdown",
      "metadata": {
        "colab_type": "text",
        "id": "0lfZdD_cp1t5"
      },
      "source": [
        "# Assignment\n",
        "\n",
        "- <a href=\"#p1\">Part 1:</a> Pre-Trained Model\n",
        "- <a href=\"#p2\">Part 2:</a> Custom CNN Model\n",
        "- <a href=\"#p3\">Part 3:</a> CNN with Data Augmentation\n",
        "\n",
        "\n",
        "You will apply three different CNN models to a binary image classification model using Keras. Classify images of Mountains (`./data/train/mountain/*`) and images of forests (`./data/train/forest/*`). Treat mountains as the positive class (1) and the forest images as the negative (zero). \n",
        "\n",
        "|Mountain (+)|Forest (-)|\n",
        "|---|---|\n",
        "|![](https://github.com/LambdaSchool/DS-Unit-4-Sprint-3-Deep-Learning/blob/main/module2-convolutional-neural-networks/data/train/mountain/art1131.jpg?raw=1)|![](https://github.com/LambdaSchool/DS-Unit-4-Sprint-3-Deep-Learning/blob/main/module2-convolutional-neural-networks/data/validation/forest/cdmc317.jpg?raw=1)|\n",
        "\n",
        "The problem is relatively difficult given that the sample is tiny: there are about 350 observations per class. This sample size might be something that you can expect with prototyping an image classification problem/solution at work. Get accustomed to evaluating several different possible models."
      ]
    },
    {
      "cell_type": "markdown",
      "metadata": {
        "colab_type": "text",
        "id": "1eawBP-otCAb"
      },
      "source": [
        "# Pre - Trained Model\n",
        "<a id=\"p1\"></a>\n",
        "\n",
        "Load a pretrained network from Keras, [ResNet50](https://tfhub.dev/google/imagenet/resnet_v1_50/classification/1) - a 50 layer deep network trained to recognize [1000 objects](https://storage.googleapis.com/download.tensorflow.org/data/ImageNetLabels.txt). Starting usage:\n",
        "\n",
        "```python\n",
        "import numpy as np\n",
        "\n",
        "from tensorflow.keras.applications.resnet50 import ResNet50\n",
        "from tensorflow.keras.preprocessing import image\n",
        "from tensorflow.keras.applications.resnet50 import preprocess_input, decode_predictions\n",
        "\n",
        "from tensorflow.keras.layers import Dense, GlobalAveragePooling2D\n",
        "from tensorflow.keras.models import Model # This is the functional API\n",
        "\n",
        "resnet = ResNet50(weights='imagenet', include_top=False)\n",
        "\n",
        "```\n",
        "\n",
        "The `include_top` parameter in `ResNet50` will remove the full connected layers from the ResNet model. The next step is to turn off the training of the ResNet layers. We want to use the learned parameters without updating them in future training passes. \n",
        "\n",
        "```python\n",
        "for layer in resnet.layers:\n",
        "    layer.trainable = False\n",
        "```\n",
        "\n",
        "Using the Keras functional API, we will need to additional additional full connected layers to our model. We we removed the top layers, we removed all preivous fully connected layers. In other words, we kept only the feature processing portions of our network. You can expert with additional layers beyond what's listed here. The `GlobalAveragePooling2D` layer functions as a really fancy flatten function by taking the average of each of the last convolutional layer outputs (which is two dimensional still). \n",
        "\n",
        "```python\n",
        "x = resnet.output\n",
        "x = GlobalAveragePooling2D()(x) # This layer is a really fancy flatten\n",
        "x = Dense(1024, activation='relu')(x)\n",
        "predictions = Dense(1, activation='sigmoid')(x)\n",
        "model = Model(resnet.input, predictions)\n",
        "```\n",
        "\n",
        "Your assignment is to apply the transfer learning above to classify images of Mountains (`./data/train/mountain/*`) and images of forests (`./data/train/forest/*`). Treat mountains as the positive class (1) and the forest images as the negative (zero). \n",
        "\n",
        "Steps to complete assignment: \n",
        "1. Load in Image Data into numpy arrays (`X`) \n",
        "2. Create a `y` for the labels\n",
        "3. Train your model with pre-trained layers from resnet\n",
        "4. Report your model's accuracy"
      ]
    },
    {
      "cell_type": "markdown",
      "metadata": {
        "id": "CLdGdXCatCAb",
        "colab_type": "text"
      },
      "source": [
        "## Load in Data\n",
        "\n",
        "This surprisingly more difficult than it seems, because you are working with directories of images instead of a single file. This boiler plate will help you download a zipped version of the directory of images. The directory is organized into \"train\" and \"validation\" which you can use inside an `ImageGenerator` class to stream batches of images thru your model.  \n"
      ]
    },
    {
      "cell_type": "markdown",
      "metadata": {
        "id": "moRVuHUqtCAc",
        "colab_type": "text"
      },
      "source": [
        "### Download & Summarize the Data\n",
        "\n",
        "This step is completed for you. Just run the cells and review the results. "
      ]
    },
    {
      "cell_type": "code",
      "metadata": {
        "id": "AR66H8o9tCAc",
        "colab_type": "code",
        "colab": {
          "base_uri": "https://localhost:8080/",
          "height": 72
        },
        "outputId": "b7c293db-28c1-4b0b-f5ae-25be00f11ec5"
      },
      "source": [
        "import tensorflow as tf\n",
        "import os\n",
        "\n",
        "_URL = 'https://github.com/LambdaSchool/DS-Unit-4-Sprint-3-Deep-Learning/blob/main/module2-convolutional-neural-networks/data.zip?raw=true'\n",
        "\n",
        "path_to_zip = tf.keras.utils.get_file('./data.zip', origin=_URL, extract=True)\n",
        "PATH = os.path.join(os.path.dirname(path_to_zip), 'data')"
      ],
      "execution_count": 1,
      "outputs": [
        {
          "output_type": "stream",
          "name": "stdout",
          "text": [
            "Downloading data from https://github.com/LambdaSchool/DS-Unit-4-Sprint-3-Deep-Learning/blob/main/module2-convolutional-neural-networks/data.zip?raw=true\n",
            "42172416/42170838 [==============================] - 14s 0us/step\n"
          ]
        }
      ]
    },
    {
      "cell_type": "code",
      "metadata": {
        "id": "MNFsIu_KtCAg",
        "colab_type": "code",
        "colab": {}
      },
      "source": [
        "train_dir = os.path.join(PATH, 'train')\n",
        "validation_dir = os.path.join(PATH, 'validation')"
      ],
      "execution_count": 2,
      "outputs": []
    },
    {
      "cell_type": "code",
      "metadata": {
        "id": "OsI9BQLotCAj",
        "colab_type": "code",
        "colab": {}
      },
      "source": [
        "train_mountain_dir = os.path.join(train_dir, 'mountain')  # directory with our training cat pictures\n",
        "train_forest_dir = os.path.join(train_dir, 'forest')  # directory with our training dog pictures\n",
        "validation_mountain_dir = os.path.join(validation_dir, 'mountain')  # directory with our validation cat pictures\n",
        "validation_forest_dir = os.path.join(validation_dir, 'forest')  # directory with our validation dog pictures"
      ],
      "execution_count": 3,
      "outputs": []
    },
    {
      "cell_type": "code",
      "metadata": {
        "id": "NUs1e5-XtCAl",
        "colab_type": "code",
        "colab": {}
      },
      "source": [
        "num_mountain_tr = len(os.listdir(train_mountain_dir))\n",
        "num_forest_tr = len(os.listdir(train_forest_dir))\n",
        "\n",
        "num_mountain_val = len(os.listdir(validation_mountain_dir))\n",
        "num_forest_val = len(os.listdir(validation_forest_dir))\n",
        "\n",
        "total_train = num_mountain_tr + num_forest_tr\n",
        "total_val = num_mountain_val + num_forest_val"
      ],
      "execution_count": 4,
      "outputs": []
    },
    {
      "cell_type": "code",
      "metadata": {
        "id": "ZmklbgSMtCAn",
        "colab_type": "code",
        "colab": {
          "base_uri": "https://localhost:8080/",
          "height": 138
        },
        "outputId": "be5b9d52-d9f5-4b1e-878e-eb5f87d0c6bd"
      },
      "source": [
        "print('total training mountain images:', num_mountain_tr)\n",
        "print('total training forest images:', num_forest_tr)\n",
        "\n",
        "print('total validation mountain images:', num_mountain_val)\n",
        "print('total validation forest images:', num_forest_val)\n",
        "print(\"--\")\n",
        "print(\"Total training images:\", total_train)\n",
        "print(\"Total validation images:\", total_val)"
      ],
      "execution_count": 5,
      "outputs": [
        {
          "output_type": "stream",
          "name": "stdout",
          "text": [
            "total training mountain images: 254\ntotal training forest images: 270\ntotal validation mountain images: 125\ntotal validation forest images: 62\n--\nTotal training images: 524\nTotal validation images: 187\n"
          ]
        }
      ]
    },
    {
      "cell_type": "markdown",
      "metadata": {
        "id": "dQ4ag4ultCAq",
        "colab_type": "text"
      },
      "source": [
        "### Keras `ImageGenerator` to Process the Data\n",
        "\n",
        "This step is completed for you, but please review the code. The `ImageGenerator` class reads in batches of data from a directory and pass them to the model one batch at a time. Just like large text files, this method is advantageous, because it stifles the need to load a bunch of images into memory. \n",
        "\n",
        "Check out the documentation for this class method: [Keras `ImageGenerator` Class](https://keras.io/preprocessing/image/#imagedatagenerator-class). You'll expand it's use in the third assignment objective."
      ]
    },
    {
      "cell_type": "code",
      "metadata": {
        "id": "67i9IW49tCAq",
        "colab_type": "code",
        "colab": {}
      },
      "source": [
        "batch_size = 16\n",
        "epochs = 50\n",
        "IMG_HEIGHT = 224\n",
        "IMG_WIDTH = 224"
      ],
      "execution_count": 6,
      "outputs": []
    },
    {
      "cell_type": "code",
      "metadata": {
        "id": "B1wNKMo1tCAt",
        "colab_type": "code",
        "colab": {}
      },
      "source": [
        "from tensorflow.keras.preprocessing.image import ImageDataGenerator\n",
        "\n",
        "train_image_generator = ImageDataGenerator(rescale=1./255) # Generator for our training data\n",
        "validation_image_generator = ImageDataGenerator(rescale=1./255) # Generator for our validation data"
      ],
      "execution_count": 7,
      "outputs": []
    },
    {
      "cell_type": "code",
      "metadata": {
        "id": "ndsuM4L9tCAv",
        "colab_type": "code",
        "colab": {
          "base_uri": "https://localhost:8080/",
          "height": 35
        },
        "outputId": "68bd83da-a370-4f6a-a257-d8c6782e1e1e"
      },
      "source": [
        "train_data_gen = train_image_generator.flow_from_directory(batch_size=batch_size,\n",
        "                                                           directory=train_dir,\n",
        "                                                           shuffle=True,\n",
        "                                                           target_size=(IMG_HEIGHT, IMG_WIDTH),\n",
        "                                                           class_mode='binary')"
      ],
      "execution_count": 8,
      "outputs": [
        {
          "output_type": "stream",
          "name": "stdout",
          "text": [
            "Found 533 images belonging to 2 classes.\n"
          ]
        }
      ]
    },
    {
      "cell_type": "code",
      "metadata": {
        "id": "9kxlk3optCAy",
        "colab_type": "code",
        "colab": {}
      },
      "source": [
        "val_data_gen = validation_image_generator.flow_from_directory(batch_size=batch_size,\n",
        "                                                              directory=validation_dir,\n",
        "                                                              target_size=(IMG_HEIGHT, IMG_WIDTH),\n",
        "                                                              class_mode='binary')"
      ],
      "execution_count": 9,
      "outputs": [
        {
          "output_type": "stream",
          "name": "stdout",
          "text": [
            "Found 195 images belonging to 2 classes.\n"
          ]
        }
      ]
    },
    {
      "cell_type": "markdown",
      "metadata": {
        "id": "2l7ue6NutCA0",
        "colab_type": "text"
      },
      "source": [
        "## Instatiate Model"
      ]
    },
    {
      "cell_type": "code",
      "metadata": {
        "id": "mKNIYOEItCA0",
        "colab_type": "code",
        "colab": {}
      },
      "source": [
        "from tensorflow.keras.models import Sequential, Model # <- May Use\n",
        "from tensorflow.keras.layers import Dense, Conv2D, MaxPooling2D, Flatten\n",
        "# Setup Architecture\n",
        "\n",
        "model = Sequential()\n",
        "model.add(Conv2D(112, (3,3), activation='relu', input_shape=(224, 224, 3)))\n",
        "model.add(MaxPooling2D((2,2)))\n",
        "model.add(Conv2D(56, (3,3), activation='relu'))\n",
        "model.add(MaxPooling2D((2,2)))\n",
        "model.add(Conv2D(56, (3,3), activation='relu'))\n",
        "model.add(Flatten())\n",
        "model.add(Dense(56, activation='relu'))\n",
        "model.add(Dense(10, activation='softmax'))\n",
        "\n",
        "model.summary()"
      ],
      "execution_count": 14,
      "outputs": [
        {
          "output_type": "stream",
          "name": "stdout",
          "text": [
            "Model: \"sequential_1\"\n_________________________________________________________________\nLayer (type)                 Output Shape              Param #   \n=================================================================\nconv2d_3 (Conv2D)            (None, 222, 222, 112)     3136      \n_________________________________________________________________\nmax_pooling2d_2 (MaxPooling2 (None, 111, 111, 112)     0         \n_________________________________________________________________\nconv2d_4 (Conv2D)            (None, 109, 109, 56)      56504     \n_________________________________________________________________\nmax_pooling2d_3 (MaxPooling2 (None, 54, 54, 56)        0         \n_________________________________________________________________\nconv2d_5 (Conv2D)            (None, 52, 52, 56)        28280     \n_________________________________________________________________\nflatten_1 (Flatten)          (None, 151424)            0         \n_________________________________________________________________\ndense_2 (Dense)              (None, 56)                8479800   \n_________________________________________________________________\ndense_3 (Dense)              (None, 10)                570       \n=================================================================\nTotal params: 8,568,290\nTrainable params: 8,568,290\nNon-trainable params: 0\n_________________________________________________________________\n"
          ]
        }
      ]
    },
    {
      "cell_type": "code",
      "execution_count": 15,
      "metadata": {},
      "outputs": [],
      "source": [
        "model.compile(optimizer='adam',\n",
        "              loss='sparse_categorical_crossentropy',\n",
        "              metrics=['accuracy'])"
      ]
    },
    {
      "cell_type": "markdown",
      "metadata": {
        "id": "BVPBWYG7tCA2",
        "colab_type": "text"
      },
      "source": [
        "## Fit Model"
      ]
    },
    {
      "cell_type": "code",
      "metadata": {
        "id": "H4XdvWA5tCA3",
        "colab_type": "code",
        "colab": {}
      },
      "source": [
        "history = model.fit(\n",
        "    train_data_gen,\n",
        "    steps_per_epoch=total_train // batch_size,\n",
        "    epochs=epochs,\n",
        "    validation_data=val_data_gen,\n",
        "    validation_steps=total_val // batch_size\n",
        ")"
      ],
      "execution_count": 16,
      "outputs": [
        {
          "output_type": "stream",
          "name": "stdout",
          "text": [
            "Epoch 1/50\n",
            "31/32 [============================>.] - ETA: 0s - loss: 0.5265 - acc: 0.7500Epoch 1/50\n",
            "32/32 [==============================] - 7s 219ms/step - loss: 0.5161 - acc: 0.7525 - val_loss: 0.4561 - val_acc: 0.8182\n",
            "Epoch 2/50\n",
            "31/32 [============================>.] - ETA: 0s - loss: 0.1637 - acc: 0.9423Epoch 1/50\n",
            "32/32 [==============================] - 6s 181ms/step - loss: 0.1615 - acc: 0.9421 - val_loss: 0.2113 - val_acc: 0.9148\n",
            "Epoch 3/50\n",
            "31/32 [============================>.] - ETA: 0s - loss: 0.1719 - acc: 0.9278Epoch 1/50\n",
            "32/32 [==============================] - 6s 182ms/step - loss: 0.1676 - acc: 0.9301 - val_loss: 0.1752 - val_acc: 0.9318\n",
            "Epoch 4/50\n",
            "31/32 [============================>.] - ETA: 0s - loss: 0.1246 - acc: 0.9435Epoch 1/50\n",
            "32/32 [==============================] - 6s 184ms/step - loss: 0.1230 - acc: 0.9453 - val_loss: 0.3514 - val_acc: 0.8580\n",
            "Epoch 5/50\n",
            "31/32 [============================>.] - ETA: 0s - loss: 0.1207 - acc: 0.9557Epoch 1/50\n",
            "32/32 [==============================] - 6s 178ms/step - loss: 0.1198 - acc: 0.9571 - val_loss: 0.2565 - val_acc: 0.9034\n",
            "Epoch 6/50\n",
            "31/32 [============================>.] - ETA: 0s - loss: 0.0854 - acc: 0.9691Epoch 1/50\n",
            "32/32 [==============================] - 6s 182ms/step - loss: 0.0839 - acc: 0.9701 - val_loss: 0.1855 - val_acc: 0.9205\n",
            "Epoch 7/50\n",
            "31/32 [============================>.] - ETA: 0s - loss: 0.0805 - acc: 0.9773Epoch 1/50\n",
            "32/32 [==============================] - 6s 181ms/step - loss: 0.0790 - acc: 0.9780 - val_loss: 0.3921 - val_acc: 0.8636\n",
            "Epoch 8/50\n",
            "31/32 [============================>.] - ETA: 0s - loss: 0.1862 - acc: 0.9546Epoch 1/50\n",
            "32/32 [==============================] - 6s 182ms/step - loss: 0.1910 - acc: 0.9521 - val_loss: 0.2495 - val_acc: 0.9034\n",
            "Epoch 9/50\n",
            "31/32 [============================>.] - ETA: 0s - loss: 0.1584 - acc: 0.9464Epoch 1/50\n",
            "32/32 [==============================] - 6s 188ms/step - loss: 0.1538 - acc: 0.9481 - val_loss: 0.3028 - val_acc: 0.8750\n",
            "Epoch 10/50\n",
            "31/32 [============================>.] - ETA: 0s - loss: 0.1101 - acc: 0.9526Epoch 1/50\n",
            "32/32 [==============================] - 6s 187ms/step - loss: 0.1073 - acc: 0.9541 - val_loss: 0.1548 - val_acc: 0.9261\n",
            "Epoch 11/50\n",
            "31/32 [============================>.] - ETA: 0s - loss: 0.0832 - acc: 0.9657Epoch 1/50\n",
            "32/32 [==============================] - 6s 188ms/step - loss: 0.0869 - acc: 0.9629 - val_loss: 0.8997 - val_acc: 0.6989\n",
            "Epoch 12/50\n",
            "31/32 [============================>.] - ETA: 0s - loss: 0.0534 - acc: 0.9814Epoch 1/50\n",
            "32/32 [==============================] - 6s 191ms/step - loss: 0.0520 - acc: 0.9820 - val_loss: 0.3336 - val_acc: 0.8864\n",
            "Epoch 13/50\n",
            "31/32 [============================>.] - ETA: 0s - loss: 0.0107 - acc: 0.9979Epoch 1/50\n",
            "32/32 [==============================] - 6s 181ms/step - loss: 0.0109 - acc: 0.9980 - val_loss: 0.2585 - val_acc: 0.9318\n",
            "Epoch 14/50\n",
            "31/32 [============================>.] - ETA: 0s - loss: 0.0018 - acc: 1.0000Epoch 1/50\n",
            "32/32 [==============================] - 6s 188ms/step - loss: 0.0018 - acc: 1.0000 - val_loss: 0.3374 - val_acc: 0.9261\n",
            "Epoch 15/50\n",
            "31/32 [============================>.] - ETA: 0s - loss: 0.0019 - acc: 1.0000Epoch 1/50\n",
            "32/32 [==============================] - 6s 185ms/step - loss: 0.0019 - acc: 1.0000 - val_loss: 0.2201 - val_acc: 0.9318\n",
            "Epoch 16/50\n",
            "31/32 [============================>.] - ETA: 0s - loss: 8.9256e-04 - acc: 1.0000Epoch 1/50\n",
            "32/32 [==============================] - 6s 184ms/step - loss: 8.8475e-04 - acc: 1.0000 - val_loss: 0.3383 - val_acc: 0.9205\n",
            "Epoch 17/50\n",
            "31/32 [============================>.] - ETA: 0s - loss: 4.6813e-04 - acc: 1.0000Epoch 1/50\n",
            "32/32 [==============================] - 6s 184ms/step - loss: 4.7184e-04 - acc: 1.0000 - val_loss: 0.3649 - val_acc: 0.9205\n",
            "Epoch 18/50\n",
            "31/32 [============================>.] - ETA: 0s - loss: 3.3852e-04 - acc: 1.0000Epoch 1/50\n",
            "32/32 [==============================] - 6s 190ms/step - loss: 3.3355e-04 - acc: 1.0000 - val_loss: 0.3441 - val_acc: 0.9261\n",
            "Epoch 19/50\n",
            "31/32 [============================>.] - ETA: 0s - loss: 2.2696e-04 - acc: 1.0000Epoch 1/50\n",
            "32/32 [==============================] - 6s 185ms/step - loss: 2.2051e-04 - acc: 1.0000 - val_loss: 0.3186 - val_acc: 0.9318\n",
            "Epoch 20/50\n",
            "31/32 [============================>.] - ETA: 0s - loss: 2.0116e-04 - acc: 1.0000Epoch 1/50\n",
            "32/32 [==============================] - 6s 183ms/step - loss: 1.9675e-04 - acc: 1.0000 - val_loss: 0.3838 - val_acc: 0.9261\n",
            "Epoch 21/50\n",
            "31/32 [============================>.] - ETA: 0s - loss: 1.8349e-04 - acc: 1.0000Epoch 1/50\n",
            "32/32 [==============================] - 6s 190ms/step - loss: 1.7851e-04 - acc: 1.0000 - val_loss: 0.3581 - val_acc: 0.9318\n",
            "Epoch 22/50\n",
            "31/32 [============================>.] - ETA: 0s - loss: 1.4747e-04 - acc: 1.0000Epoch 1/50\n",
            "32/32 [==============================] - 6s 180ms/step - loss: 1.4478e-04 - acc: 1.0000 - val_loss: 0.4140 - val_acc: 0.9261\n",
            "Epoch 23/50\n",
            "31/32 [============================>.] - ETA: 0s - loss: 1.4233e-04 - acc: 1.0000Epoch 1/50\n",
            "32/32 [==============================] - 6s 187ms/step - loss: 1.3889e-04 - acc: 1.0000 - val_loss: 0.4142 - val_acc: 0.9318\n",
            "Epoch 24/50\n",
            "31/32 [============================>.] - ETA: 0s - loss: 1.0556e-04 - acc: 1.0000Epoch 1/50\n",
            "32/32 [==============================] - 6s 187ms/step - loss: 1.0794e-04 - acc: 1.0000 - val_loss: 0.3868 - val_acc: 0.9318\n",
            "Epoch 25/50\n",
            "31/32 [============================>.] - ETA: 0s - loss: 7.3956e-05 - acc: 1.0000Epoch 1/50\n",
            "32/32 [==============================] - 6s 181ms/step - loss: 7.3077e-05 - acc: 1.0000 - val_loss: 0.3778 - val_acc: 0.9318\n",
            "Epoch 26/50\n",
            "31/32 [============================>.] - ETA: 0s - loss: 8.8383e-05 - acc: 1.0000Epoch 1/50\n",
            "32/32 [==============================] - 6s 188ms/step - loss: 9.0849e-05 - acc: 1.0000 - val_loss: 0.4087 - val_acc: 0.9318\n",
            "Epoch 27/50\n",
            "31/32 [============================>.] - ETA: 0s - loss: 6.9114e-05 - acc: 1.0000Epoch 1/50\n",
            "32/32 [==============================] - 6s 183ms/step - loss: 6.7031e-05 - acc: 1.0000 - val_loss: 0.4474 - val_acc: 0.9261\n",
            "Epoch 28/50\n",
            "31/32 [============================>.] - ETA: 0s - loss: 6.8636e-05 - acc: 1.0000Epoch 1/50\n",
            "32/32 [==============================] - 6s 183ms/step - loss: 6.6746e-05 - acc: 1.0000 - val_loss: 0.4403 - val_acc: 0.9261\n",
            "Epoch 29/50\n",
            "31/32 [============================>.] - ETA: 0s - loss: 5.3780e-05 - acc: 1.0000Epoch 1/50\n",
            "32/32 [==============================] - 6s 185ms/step - loss: 5.4150e-05 - acc: 1.0000 - val_loss: 0.4311 - val_acc: 0.9261\n",
            "Epoch 30/50\n",
            "31/32 [============================>.] - ETA: 0s - loss: 4.9420e-05 - acc: 1.0000Epoch 1/50\n",
            "32/32 [==============================] - 6s 191ms/step - loss: 4.8457e-05 - acc: 1.0000 - val_loss: 0.4501 - val_acc: 0.9261\n",
            "Epoch 31/50\n",
            "31/32 [============================>.] - ETA: 0s - loss: 4.6243e-05 - acc: 1.0000Epoch 1/50\n",
            "32/32 [==============================] - 6s 183ms/step - loss: 4.5127e-05 - acc: 1.0000 - val_loss: 0.4958 - val_acc: 0.9261\n",
            "Epoch 32/50\n",
            "31/32 [============================>.] - ETA: 0s - loss: 4.8041e-05 - acc: 1.0000Epoch 1/50\n",
            "32/32 [==============================] - 6s 191ms/step - loss: 4.6744e-05 - acc: 1.0000 - val_loss: 0.4579 - val_acc: 0.9261\n",
            "Epoch 33/50\n",
            "31/32 [============================>.] - ETA: 0s - loss: 4.6297e-05 - acc: 1.0000Epoch 1/50\n",
            "32/32 [==============================] - 6s 187ms/step - loss: 4.8059e-05 - acc: 1.0000 - val_loss: 0.4786 - val_acc: 0.9261\n",
            "Epoch 34/50\n",
            "31/32 [============================>.] - ETA: 0s - loss: 2.8872e-05 - acc: 1.0000Epoch 1/50\n",
            "32/32 [==============================] - 6s 184ms/step - loss: 2.9108e-05 - acc: 1.0000 - val_loss: 0.4416 - val_acc: 0.9261\n",
            "Epoch 35/50\n",
            "31/32 [============================>.] - ETA: 0s - loss: 3.5453e-05 - acc: 1.0000Epoch 1/50\n",
            "32/32 [==============================] - 6s 185ms/step - loss: 3.7344e-05 - acc: 1.0000 - val_loss: 0.5127 - val_acc: 0.9261\n",
            "Epoch 36/50\n",
            "31/32 [============================>.] - ETA: 0s - loss: 3.0868e-05 - acc: 1.0000Epoch 1/50\n",
            "32/32 [==============================] - 6s 187ms/step - loss: 3.0635e-05 - acc: 1.0000 - val_loss: 0.4508 - val_acc: 0.9261\n",
            "Epoch 37/50\n",
            "31/32 [============================>.] - ETA: 0s - loss: 2.4946e-05 - acc: 1.0000Epoch 1/50\n",
            "32/32 [==============================] - 6s 187ms/step - loss: 2.4953e-05 - acc: 1.0000 - val_loss: 0.4782 - val_acc: 0.9261\n",
            "Epoch 38/50\n",
            "31/32 [============================>.] - ETA: 0s - loss: 2.5383e-05 - acc: 1.0000Epoch 1/50\n",
            "32/32 [==============================] - 6s 183ms/step - loss: 2.7330e-05 - acc: 1.0000 - val_loss: 0.4745 - val_acc: 0.9261\n",
            "Epoch 39/50\n",
            "31/32 [============================>.] - ETA: 0s - loss: 2.4557e-05 - acc: 1.0000Epoch 1/50\n",
            "32/32 [==============================] - 6s 180ms/step - loss: 2.4352e-05 - acc: 1.0000 - val_loss: 0.4818 - val_acc: 0.9261\n",
            "Epoch 40/50\n",
            "31/32 [============================>.] - ETA: 0s - loss: 2.2992e-05 - acc: 1.0000Epoch 1/50\n",
            "32/32 [==============================] - 6s 188ms/step - loss: 2.2447e-05 - acc: 1.0000 - val_loss: 0.4941 - val_acc: 0.9261\n",
            "Epoch 41/50\n",
            "31/32 [============================>.] - ETA: 0s - loss: 2.1779e-05 - acc: 1.0000Epoch 1/50\n",
            "32/32 [==============================] - 6s 180ms/step - loss: 2.2579e-05 - acc: 1.0000 - val_loss: 0.4718 - val_acc: 0.9261\n",
            "Epoch 42/50\n",
            "31/32 [============================>.] - ETA: 0s - loss: 1.3173e-05 - acc: 1.0000Epoch 1/50\n",
            "32/32 [==============================] - 6s 187ms/step - loss: 1.5331e-05 - acc: 1.0000 - val_loss: 0.5129 - val_acc: 0.9261\n",
            "Epoch 43/50\n",
            "31/32 [============================>.] - ETA: 0s - loss: 1.9307e-05 - acc: 1.0000Epoch 1/50\n",
            "32/32 [==============================] - 6s 181ms/step - loss: 1.8869e-05 - acc: 1.0000 - val_loss: 0.4952 - val_acc: 0.9261\n",
            "Epoch 44/50\n",
            "31/32 [============================>.] - ETA: 0s - loss: 1.5981e-05 - acc: 1.0000Epoch 1/50\n",
            "32/32 [==============================] - 6s 186ms/step - loss: 1.5626e-05 - acc: 1.0000 - val_loss: 0.5189 - val_acc: 0.9261\n",
            "Epoch 45/50\n",
            "31/32 [============================>.] - ETA: 0s - loss: 1.7650e-05 - acc: 1.0000Epoch 1/50\n",
            "32/32 [==============================] - 6s 186ms/step - loss: 1.7505e-05 - acc: 1.0000 - val_loss: 0.4952 - val_acc: 0.9261\n",
            "Epoch 46/50\n",
            "31/32 [============================>.] - ETA: 0s - loss: 1.7955e-05 - acc: 1.0000Epoch 1/50\n",
            "32/32 [==============================] - 6s 186ms/step - loss: 1.7825e-05 - acc: 1.0000 - val_loss: 0.5066 - val_acc: 0.9261\n",
            "Epoch 47/50\n",
            "31/32 [============================>.] - ETA: 0s - loss: 1.3454e-05 - acc: 1.0000Epoch 1/50\n",
            "32/32 [==============================] - 6s 184ms/step - loss: 1.4050e-05 - acc: 1.0000 - val_loss: 0.4979 - val_acc: 0.9261\n",
            "Epoch 48/50\n",
            "31/32 [============================>.] - ETA: 0s - loss: 1.5608e-05 - acc: 1.0000Epoch 1/50\n",
            "32/32 [==============================] - 6s 179ms/step - loss: 1.5643e-05 - acc: 1.0000 - val_loss: 0.5051 - val_acc: 0.9261\n",
            "Epoch 49/50\n",
            "31/32 [============================>.] - ETA: 0s - loss: 1.0435e-05 - acc: 1.0000Epoch 1/50\n",
            "32/32 [==============================] - 6s 186ms/step - loss: 1.0682e-05 - acc: 1.0000 - val_loss: 0.5218 - val_acc: 0.9261\n",
            "Epoch 50/50\n",
            "31/32 [============================>.] - ETA: 0s - loss: 1.2600e-05 - acc: 1.0000Epoch 1/50\n",
            "32/32 [==============================] - 6s 182ms/step - loss: 1.2581e-05 - acc: 1.0000 - val_loss: 0.5152 - val_acc: 0.9261\n"
          ]
        }
      ]
    },
    {
      "cell_type": "markdown",
      "metadata": {
        "id": "UPzsgS94tCA5",
        "colab_type": "text"
      },
      "source": [
        "# Custom CNN Model\n",
        "\n",
        "In this step, write and train your own convolutional neural network using Keras. You can use any architecture that suits you as long as it has at least one convolutional and one pooling layer at the beginning of the network - you can add more if you want. "
      ]
    },
    {
      "cell_type": "code",
      "metadata": {
        "id": "hnbJJie3tCA5",
        "colab_type": "code",
        "colab": {}
      },
      "source": [
        "# Define the Model\n"
      ],
      "execution_count": null,
      "outputs": []
    },
    {
      "cell_type": "code",
      "metadata": {
        "id": "1P_mRtoutCA9",
        "colab_type": "code",
        "colab": {}
      },
      "source": [
        "# Compile Model"
      ],
      "execution_count": null,
      "outputs": []
    },
    {
      "cell_type": "code",
      "metadata": {
        "id": "CwM4GsaetCA_",
        "colab_type": "code",
        "colab": {}
      },
      "source": [
        "# Fit Model"
      ],
      "execution_count": null,
      "outputs": []
    },
    {
      "cell_type": "markdown",
      "metadata": {
        "id": "FNTHjUddtCBB",
        "colab_type": "text"
      },
      "source": [
        "# Custom CNN Model with Image Manipulations\n",
        "\n",
        "To simulate an increase in a sample of image, you can apply image manipulation techniques: cropping, rotation, stretching, etc. Luckily Keras has some handy functions for us to apply these techniques to our mountain and forest example. Simply, you should be able to modify our image generator for the problem. Check out these resources to help you get started: \n",
        "\n",
        "1. [Keras `ImageGenerator` Class](https://keras.io/preprocessing/image/#imagedatagenerator-class)\n",
        "2. [Building a powerful image classifier with very little data](https://blog.keras.io/building-powerful-image-classification-models-using-very-little-data.html)\n",
        " "
      ]
    },
    {
      "cell_type": "code",
      "metadata": {
        "id": "XKioBv3WtCBB",
        "colab_type": "code",
        "colab": {}
      },
      "source": [
        ""
      ],
      "execution_count": null,
      "outputs": []
    },
    {
      "cell_type": "markdown",
      "metadata": {
        "colab_type": "text",
        "id": "uT3UV3gap9H6"
      },
      "source": [
        "# Resources and Stretch Goals\n",
        "\n",
        "Stretch goals\n",
        "- Enhance your code to use classes/functions and accept terms to search and classes to look for in recognizing the downloaded images (e.g. download images of parties, recognize all that contain balloons)\n",
        "- Check out [other available pretrained networks](https://tfhub.dev), try some and compare\n",
        "- Image recognition/classification is somewhat solved, but *relationships* between entities and describing an image is not - check out some of the extended resources (e.g. [Visual Genome](https://visualgenome.org/)) on the topic\n",
        "- Transfer learning - using images you source yourself, [retrain a classifier](https://www.tensorflow.org/hub/tutorials/image_retraining) with a new category\n",
        "- (Not CNN related) Use [piexif](https://pypi.org/project/piexif/) to check out the metadata of images passed in to your system - see if they're from a national park! (Note - many images lack GPS metadata, so this won't work in most cases, but still cool)\n",
        "\n",
        "Resources\n",
        "- [Deep Residual Learning for Image Recognition](https://arxiv.org/abs/1512.03385) - influential paper (introduced ResNet)\n",
        "- [YOLO: Real-Time Object Detection](https://pjreddie.com/darknet/yolo/) - an influential convolution based object detection system, focused on inference speed (for applications to e.g. self driving vehicles)\n",
        "- [R-CNN, Fast R-CNN, Faster R-CNN, YOLO](https://towardsdatascience.com/r-cnn-fast-r-cnn-faster-r-cnn-yolo-object-detection-algorithms-36d53571365e) - comparison of object detection systems\n",
        "- [Common Objects in Context](http://cocodataset.org/) - a large-scale object detection, segmentation, and captioning dataset\n",
        "- [Visual Genome](https://visualgenome.org/) - a dataset, a knowledge base, an ongoing effort to connect structured image concepts to language"
      ]
    }
  ]
}